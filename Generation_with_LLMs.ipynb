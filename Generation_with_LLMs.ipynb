{
  "nbformat": 4,
  "nbformat_minor": 0,
  "metadata": {
    "colab": {
      "provenance": [],
      "authorship_tag": "ABX9TyNzJCaRYePKocg1rSZgjZ9B",
      "include_colab_link": true
    },
    "kernelspec": {
      "name": "python3",
      "display_name": "Python 3"
    },
    "language_info": {
      "name": "python"
    }
  },
  "cells": [
    {
      "cell_type": "markdown",
      "metadata": {
        "id": "view-in-github",
        "colab_type": "text"
      },
      "source": [
        "<a href=\"https://colab.research.google.com/github/pratikagithub/All-About-GenAI-and-LLMs/blob/main/Generation_with_LLMs.ipynb\" target=\"_parent\"><img src=\"https://colab.research.google.com/assets/colab-badge.svg\" alt=\"Open In Colab\"/></a>"
      ]
    },
    {
      "cell_type": "markdown",
      "source": [
        "LLMs, or Large Language Models, are the key component behind text generation. In a nutshell, they consist of large pretrained transformer models trained to predict the next word (or, more precisely, token) given some input text. Since they predict one token at a time, you need to do something more elaborate to generate new sentences other than just calling the model — you need to do autoregressive generation.\n",
        "\n",
        "Autoregressive generation is the inference-time procedure of iteratively calling a model with its own generated outputs, given a few initial inputs. In 🤗 Transformers, this is handled by the generate() method, which is available to all models with generative capabilities.\n",
        "\n",
        "This tutorial will show you how to:\n",
        "\n",
        "Generate text with an LLM\n",
        "\n",
        "Avoid common pitfalls\n",
        "\n",
        "Next steps to help you get the most out of your LLM\n",
        "\n",
        "Before you begin, make sure you have all the necessary libraries installed:\n",
        "\n",
        "pip install transformers bitsandbytes>=0.39.0 -q\n",
        "\n",
        "**Generate text**\n",
        "\n",
        "A language model trained for causal language modeling takes a sequence of text tokens as input and returns the probability distribution for the next token.\n",
        "\n",
        "A critical aspect of autoregressive generation with LLMs is how to select the next token from this probability distribution. Anything goes in this step as long as you end up with a token for the next iteration. This means it can be as simple as selecting the most likely token from the probability distribution or as complex as applying a dozen transformations before sampling from the resulting distribution.\n",
        "\n",
        "The process depicted above is repeated iteratively until some stopping condition is reached. Ideally, the stopping condition is dictated by the model, which should learn when to output an end-of-sequence (EOS) token. If this is not the case, generation stops when some predefined maximum length is reached.\n",
        "\n",
        "Properly setting up the token selection step and the stopping condition is essential to make your model behave as you’d expect on your task. That is why we have a GenerationConfig file associated with each model, which contains a good default generative parameterization and is loaded alongside your model.\n",
        "\n",
        "First, you need to load the model."
      ],
      "metadata": {
        "id": "coNc3BHSQJ42"
      }
    },
    {
      "cell_type": "code",
      "source": [
        "pip install transformers bitsandbytes>=0.39.0 -q"
      ],
      "metadata": {
        "id": "9XX6apZpShen"
      },
      "execution_count": 3,
      "outputs": []
    },
    {
      "cell_type": "code",
      "source": [
        "from transformers import AutoModelForCausalLM\n",
        "\n",
        "model = AutoModelForCausalLM.from_pretrained(\n",
        "    \"mistralai/Mistral-7B-v0.1\", device_map=\"auto\", load_in_4bit=True\n",
        ")"
      ],
      "metadata": {
        "id": "-I0fZtVoVspb"
      },
      "execution_count": null,
      "outputs": []
    },
    {
      "cell_type": "markdown",
      "source": [
        "You’ll notice two flags in the from_pretrained call:\n",
        "\n",
        "device_map ensures the model is moved to your GPU(s)\n",
        "\n",
        "load_in_4bit applies 4-bit dynamic quantization to massively reduce the resource requirements\n",
        "\n",
        "There are other ways to initialize a model, but this is a good baseline to begin with an LLM.\n",
        "\n",
        "Next, you need to preprocess your text input with a tokenizer."
      ],
      "metadata": {
        "id": "m76pti5tRRbh"
      }
    },
    {
      "cell_type": "code",
      "source": [
        "from transformers import AutoTokenizer\n",
        "\n",
        "tokenizer = AutoTokenizer.from_pretrained(\"mistralai/Mistral-7B-v0.1\", padding_side=\"left\")\n",
        "model_inputs = tokenizer([\"A list of colors: red, blue\"], return_tensors=\"pt\").to(\"cuda\")"
      ],
      "metadata": {
        "id": "Yi2kYtj7V0ii"
      },
      "execution_count": null,
      "outputs": []
    },
    {
      "cell_type": "markdown",
      "source": [
        "The model_inputs variable holds the tokenized text input, as well as the attention mask. While generate() does its best effort to infer the attention mask when it is not passed, we recommend passing it whenever possible for optimal results.\n",
        "\n",
        "After tokenizing the inputs, you can call the generate() method to returns the generated tokens. The generated tokens then should be converted to text before printing."
      ],
      "metadata": {
        "id": "rBxS4-gHRWum"
      }
    },
    {
      "cell_type": "code",
      "source": [
        "generated_ids = model.generate(**model_inputs)\n",
        "tokenizer.batch_decode(generated_ids, skip_special_tokens=True)[0]"
      ],
      "metadata": {
        "id": "f-UARHCERZ8O"
      },
      "execution_count": null,
      "outputs": []
    },
    {
      "cell_type": "markdown",
      "source": [
        "Finally, you don’t need to do it one sequence at a time! You can batch your inputs, which will greatly improve the throughput at a small latency and memory cost. All you need to do is to make sure you pad your inputs properly (more on that below)."
      ],
      "metadata": {
        "id": "S2U4rV0cRb9t"
      }
    },
    {
      "cell_type": "code",
      "source": [
        "tokenizer.pad_token = tokenizer.eos_token  # Most LLMs don't have a pad token by default\n",
        "model_inputs = tokenizer(\n",
        "    [\"A list of colors: red, blue\", \"Portugal is\"], return_tensors=\"pt\", padding=True\n",
        ").to(\"cuda\")\n",
        "generated_ids = model.generate(**model_inputs)\n",
        "tokenizer.batch_decode(generated_ids, skip_special_tokens=True)"
      ],
      "metadata": {
        "id": "h09iaMEoRdyN"
      },
      "execution_count": null,
      "outputs": []
    },
    {
      "cell_type": "markdown",
      "source": [
        "And that’s it! In a few lines of code, you can harness the power of an LLM.\n",
        "\n",
        "**Common pitfalls**\n",
        "\n",
        "There are many generation strategies, and sometimes the default values may not be appropriate for your use case. If your outputs aren’t aligned with what you’re expecting, we’ve created a list of the most common pitfalls and how to avoid them."
      ],
      "metadata": {
        "id": "RJO6z7DHRftX"
      }
    },
    {
      "cell_type": "code",
      "source": [
        "from transformers import AutoModelForCausalLM, AutoTokenizer\n",
        "\n",
        "tokenizer = AutoTokenizer.from_pretrained(\"mistralai/Mistral-7B-v0.1\")\n",
        "tokenizer.pad_token = tokenizer.eos_token  # Most LLMs don't have a pad token by default\n",
        "model = AutoModelForCausalLM.from_pretrained(\n",
        "    \"mistralai/Mistral-7B-v0.1\", device_map=\"auto\", load_in_4bit=True\n",
        ")"
      ],
      "metadata": {
        "id": "2dQDYxoGRlGs"
      },
      "execution_count": null,
      "outputs": []
    },
    {
      "cell_type": "markdown",
      "source": [
        "**Generated output is too short/long**\n",
        "\n",
        "If not specified in the GenerationConfig file, generate returns up to 20 tokens by default. We highly recommend manually setting max_new_tokens in your generate call to control the maximum number of new tokens it can return. Keep in mind LLMs (more precisely, decoder-only models) also return the input prompt as part of the output."
      ],
      "metadata": {
        "id": "ff_56w4CRm_V"
      }
    },
    {
      "cell_type": "code",
      "source": [
        "model_inputs = tokenizer([\"A sequence of numbers: 1, 2\"], return_tensors=\"pt\").to(\"cuda\")\n",
        "\n",
        "# By default, the output will contain up to 20 tokens\n",
        "generated_ids = model.generate(**model_inputs)\n",
        "tokenizer.batch_decode(generated_ids, skip_special_tokens=True)[0]\n",
        "\n",
        "# Setting `max_new_tokens` allows you to control the maximum length\n",
        "generated_ids = model.generate(**model_inputs, max_new_tokens=50)\n",
        "tokenizer.batch_decode(generated_ids, skip_special_tokens=True)[0]"
      ],
      "metadata": {
        "id": "5J3xaJykRqZ2"
      },
      "execution_count": null,
      "outputs": []
    },
    {
      "cell_type": "markdown",
      "source": [
        "**Incorrect generation mode**\n",
        "\n",
        "By default, and unless specified in the GenerationConfig file, generate selects the most likely token at each iteration (greedy decoding). Depending on your task, this may be undesirable; creative tasks like chatbots or writing an essay benefit from sampling. On the other hand, input-grounded tasks like audio transcription or translation benefit from greedy decoding. Enable sampling with do_sample=True, and you can learn more about this topic in this blog post."
      ],
      "metadata": {
        "id": "cakcveLYRtAb"
      }
    },
    {
      "cell_type": "code",
      "source": [
        "from transformers import set_seed\n",
        "set_seed(42)\n",
        "\n",
        "model_inputs = tokenizer([\"I am a cat.\"], return_tensors=\"pt\").to(\"cuda\")\n",
        "\n",
        "# LLM + greedy decoding = repetitive, boring output\n",
        "generated_ids = model.generate(**model_inputs)\n",
        "tokenizer.batch_decode(generated_ids, skip_special_tokens=True)[0]\n",
        "\n",
        "# With sampling, the output becomes more creative!\n",
        "generated_ids = model.generate(**model_inputs, do_sample=True)\n",
        "tokenizer.batch_decode(generated_ids, skip_special_tokens=True)[0]"
      ],
      "metadata": {
        "id": "XadycCGFRwcq"
      },
      "execution_count": null,
      "outputs": []
    },
    {
      "cell_type": "markdown",
      "source": [
        "**Wrong padding side**\n",
        "\n",
        "LLMs are decoder-only architectures, meaning they continue to iterate on your input prompt. If your inputs do not have the same length, they need to be padded. Since LLMs are not trained to continue from pad tokens, your input needs to be left-padded. Make sure you also don’t forget to pass the attention mask to generate!"
      ],
      "metadata": {
        "id": "bgdn8oyRRyvd"
      }
    },
    {
      "cell_type": "code",
      "source": [
        "# The tokenizer initialized above has right-padding active by default: the 1st sequence,\n",
        "# which is shorter, has padding on the right side. Generation fails to capture the logic.\n",
        "model_inputs = tokenizer(\n",
        "    [\"1, 2, 3\", \"A, B, C, D, E\"], padding=True, return_tensors=\"pt\"\n",
        ").to(\"cuda\")\n",
        "generated_ids = model.generate(**model_inputs)\n",
        "tokenizer.batch_decode(generated_ids, skip_special_tokens=True)[0]\n",
        "\n",
        "# With left-padding, it works as expected!\n",
        "tokenizer = AutoTokenizer.from_pretrained(\"mistralai/Mistral-7B-v0.1\", padding_side=\"left\")\n",
        "tokenizer.pad_token = tokenizer.eos_token  # Most LLMs don't have a pad token by default\n",
        "model_inputs = tokenizer(\n",
        "    [\"1, 2, 3\", \"A, B, C, D, E\"], padding=True, return_tensors=\"pt\"\n",
        ").to(\"cuda\")\n",
        "generated_ids = model.generate(**model_inputs)\n",
        "tokenizer.batch_decode(generated_ids, skip_special_tokens=True)[0]"
      ],
      "metadata": {
        "id": "R0CMJvvySBEL"
      },
      "execution_count": null,
      "outputs": []
    },
    {
      "cell_type": "markdown",
      "source": [
        "**Wrong prompt**\n",
        "\n",
        "Some models and tasks expect a certain input prompt format to work properly. When this format is not applied, you will get a silent performance degradation: the model kinda works, but not as well as if you were following the expected prompt. More information about prompting, including which models and tasks need to be careful, is available in this guide. Let’s see an example with a chat LLM, which makes use of chat templating:"
      ],
      "metadata": {
        "id": "7QIrSu91SGAq"
      }
    },
    {
      "cell_type": "code",
      "source": [
        "tokenizer = AutoTokenizer.from_pretrained(\"HuggingFaceH4/zephyr-7b-alpha\")\n",
        "model = AutoModelForCausalLM.from_pretrained(\n",
        "    \"HuggingFaceH4/zephyr-7b-alpha\", device_map=\"auto\", load_in_4bit=True\n",
        ")\n",
        "set_seed(0)\n",
        "prompt = \"\"\"How many helicopters can a human eat in one sitting? Reply as a thug.\"\"\"\n",
        "model_inputs = tokenizer([prompt], return_tensors=\"pt\").to(\"cuda\")\n",
        "input_length = model_inputs.input_ids.shape[1]\n",
        "generated_ids = model.generate(**model_inputs, max_new_tokens=20)\n",
        "print(tokenizer.batch_decode(generated_ids[:, input_length:], skip_special_tokens=True)[0])\n",
        "# Oh no, it did not follow our instruction to reply as a thug! Let's see what happens when we write\n",
        "# a better prompt and use the right template for this model (through `tokenizer.apply_chat_template`)\n",
        "\n",
        "set_seed(0)\n",
        "messages = [\n",
        "    {\n",
        "        \"role\": \"system\",\n",
        "        \"content\": \"You are a friendly chatbot who always responds in the style of a thug\",\n",
        "    },\n",
        "    {\"role\": \"user\", \"content\": \"How many helicopters can a human eat in one sitting?\"},\n",
        "]\n",
        "model_inputs = tokenizer.apply_chat_template(messages, add_generation_prompt=True, return_tensors=\"pt\").to(\"cuda\")\n",
        "input_length = model_inputs.shape[1]\n",
        "generated_ids = model.generate(model_inputs, do_sample=True, max_new_tokens=20)\n",
        "print(tokenizer.batch_decode(generated_ids[:, input_length:], skip_special_tokens=True)[0])"
      ],
      "metadata": {
        "id": "FR7y99qbSKHB"
      },
      "execution_count": null,
      "outputs": []
    }
  ]
}